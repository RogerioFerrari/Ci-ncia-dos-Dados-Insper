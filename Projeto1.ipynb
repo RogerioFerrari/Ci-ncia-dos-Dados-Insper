{
 "cells": [
  {
   "cell_type": "markdown",
   "metadata": {},
   "source": [
    "# Projeto 1"
   ]
  },
  {
   "cell_type": "markdown",
   "metadata": {},
   "source": [
    "###### Nome:  Rogério P. A. Ferrari "
   ]
  },
  {
   "cell_type": "markdown",
   "metadata": {},
   "source": [
    "### TÍTULO:  Impacto no IDH de um país"
   ]
  },
  {
   "cell_type": "markdown",
   "metadata": {},
   "source": [
    "# Introdução"
   ]
  },
  {
   "cell_type": "markdown",
   "metadata": {},
   "source": [
    "O IDH é um índice que indica a qualidade de vida e o desenvolvimento de uma população, medido através do nível de escolaridade/ educação, longevidade e renda do país. Tendo em vista estas 3 variáveis que compõe o IDH (que será analisada somente como IDH no projeto), foram escolhidas mais duas. Para ter uma análise mais direcionada sobre estas 3 variáveis, foi feita uma pergunta a ser respondida através de gráficos e uma conclusão explicativa.\n"
   ]
  },
  {
   "cell_type": "markdown",
   "metadata": {},
   "source": [
    "### Outras 2 variáveis escolhidas:\n",
    "- Porcentagem de internet usada por um país\n",
    "- Porcentagem total gasta pelo governo do país em saúde"
   ]
  },
  {
   "cell_type": "markdown",
   "metadata": {},
   "source": [
    "### Pergunta:\n",
    "#### Qual o impacto que a internet usada por um país (em %) e o total gasto por seu governo em saúde (em %) podem ter em seu IDH?"
   ]
  },
  {
   "cell_type": "markdown",
   "metadata": {},
   "source": [
    "# Dados"
   ]
  },
  {
   "cell_type": "code",
   "execution_count": 227,
   "metadata": {},
   "outputs": [],
   "source": [
    "%matplotlib inline\n",
    "import pandas as pd\n",
    "import numpy as np\n",
    "import math as math\n",
    "from scipy import stats\n",
    "import matplotlib.pyplot as plt\n",
    "import seaborn as sns\n",
    "\n",
    "tabela = pd.read_excel('comparacao_tres_variaveis.xlsx')\n"
   ]
  },
  {
   "cell_type": "markdown",
   "metadata": {},
   "source": [
    "\n",
    "Para conseguir entender de maneira mais clara o impacto de uma variável sobre o IDH, será feito um gráfico do estilo \"scatter\" para a análise entre os valores do IDH e a variável utilizada. Logo após o gráfico, será feito uma tabela que mostra a correlação entre essas duas variáveis."
   ]
  },
  {
   "cell_type": "code",
   "execution_count": 228,
   "metadata": {},
   "outputs": [],
   "source": [
    "def disp_reta(data,x,y):\n",
    "    \n",
    "    datax = data[x]\n",
    "    datay = data[y]\n",
    "    \n",
    "    \n",
    "    covar = datax.cov(datay)\n",
    "    varx = datax.var()\n",
    "    vary = datay.var()\n",
    "    medx = datax.mean()\n",
    "    medy = datay.mean()\n",
    "    \n",
    "    a = covar/varx\n",
    "    \n",
    "    b = medy-a*medx\n",
    "    \n",
    "    minx = datax.min()\n",
    "    maxx = datax.max()\n",
    "    \n",
    "    plt.scatter(datax, datay)\n",
    "    plt.plot((minx,maxx),(a*minx+b,a*maxx+b),color ='red')\n",
    "    plt.title('{0} x {1}'.format(x,y))\n",
    "    plt.xlabel(x)\n",
    "    plt.ylabel(y)\n",
    "    \n",
    "    return a,b\n",
    "    "
   ]
  },
  {
   "cell_type": "code",
   "execution_count": 229,
   "metadata": {},
   "outputs": [
    {
     "name": "stdout",
     "output_type": "stream",
     "text": [
      "Coef linear(b):  -70.83907209605077\n",
      "Coef angular(a): 152.03956029226256\n"
     ]
    },
    {
     "data": {
      "image/png": "[encoded data removed]",
      "text/plain": [
       "<Figure size 432x288 with 1 Axes>"
      ]
     },
     "metadata": {},
     "output_type": "display_data"
    }
   ],
   "source": [
    "a,b = disp_reta(tabela, x=\"2010_idh\", y = '2010_%_internet')\n",
    "print('Coef linear(b): ', b)\n",
    "print('Coef angular(a):' , a)\n"
   ]
  },
  {
   "cell_type": "code",
   "execution_count": 230,
   "metadata": {
    "scrolled": true
   },
   "outputs": [
    {
     "data": {
      "text/html": [
       "<div>\n",
       "<style scoped>\n",
       "    .dataframe tbody tr th:only-of-type {\n",
       "        vertical-align: middle;\n",
       "    }\n",
       "\n",
       "    .dataframe tbody tr th {\n",
       "        vertical-align: top;\n",
       "    }\n",
       "\n",
       "    .dataframe thead th {\n",
       "        text-align: right;\n",
       "    }\n",
       "</style>\n",
       "<table border=\"1\" class=\"dataframe\">\n",
       "  <thead>\n",
       "    <tr style=\"text-align: right;\">\n",
       "      <th></th>\n",
       "      <th>2010_idh</th>\n",
       "      <th>2010_%_internet</th>\n",
       "    </tr>\n",
       "  </thead>\n",
       "  <tbody>\n",
       "    <tr>\n",
       "      <th>2010_idh</th>\n",
       "      <td>1.000000</td>\n",
       "      <td>0.877226</td>\n",
       "    </tr>\n",
       "    <tr>\n",
       "      <th>2010_%_internet</th>\n",
       "      <td>0.877226</td>\n",
       "      <td>1.000000</td>\n",
       "    </tr>\n",
       "  </tbody>\n",
       "</table>\n",
       "</div>"
      ],
      "text/plain": [
       "                 2010_idh  2010_%_internet\n",
       "2010_idh         1.000000         0.877226\n",
       "2010_%_internet  0.877226         1.000000"
      ]
     },
     "execution_count": 230,
     "metadata": {},
     "output_type": "execute_result"
    }
   ],
   "source": [
    "tabela.loc[:, ['2010_idh','2010_%_internet']].corr()"
   ]
  },
  {
   "cell_type": "markdown",
   "metadata": {},
   "source": [
    "Analisando o gráfico acima juntamente com a tabela, da pra perceber que a porcentagem de internet utilizada por uma população tem um impacto considerado grande no IDH. Esta afirmativa é dada por conta de dois motivos: \n",
    "\n",
    "O tamanho do impacto de uma variável em outra no gráfico, é visto da seguinte maneira: Quanto mais próximas da linha os pontos estiverem, maior o impacto (correlação) e vice-versa.\n",
    "\n",
    "Em relação à tabela, o impacto é perceptível da seguinte maneira: Quanto mais próximo de 1 a correlação, mais forte ela será, e consequentemente no gráfico, mais próximo os pontos estarão na linha, e quanto mais longe de 1, menor será essa correlação.\n",
    "\n",
    "Tendo em vista estas duas definições acima, a análise geral da internet VS IDH mostra valores próximos da linha, e consequentemente, na tabela, próximos a 1."
   ]
  },
  {
   "cell_type": "code",
   "execution_count": 231,
   "metadata": {},
   "outputs": [
    {
     "name": "stdout",
     "output_type": "stream",
     "text": [
      "Coef linear(b):  4.053754953813733\n",
      "Coef angular(a): 10.690292465708517\n"
     ]
    },
    {
     "data": {
      "image/png": "[encoded data removed]",
      "text/plain": [
       "<Figure size 432x288 with 1 Axes>"
      ]
     },
     "metadata": {},
     "output_type": "display_data"
    }
   ],
   "source": [
    "a,b = disp_reta(tabela, x=\"2010_idh\", y = '2010_%_gasto_saude')\n",
    "print('Coef linear(b): ', b)\n",
    "print('Coef angular(a):' , a)\n"
   ]
  },
  {
   "cell_type": "code",
   "execution_count": 232,
   "metadata": {},
   "outputs": [
    {
     "data": {
      "text/html": [
       "<div>\n",
       "<style scoped>\n",
       "    .dataframe tbody tr th:only-of-type {\n",
       "        vertical-align: middle;\n",
       "    }\n",
       "\n",
       "    .dataframe tbody tr th {\n",
       "        vertical-align: top;\n",
       "    }\n",
       "\n",
       "    .dataframe thead th {\n",
       "        text-align: right;\n",
       "    }\n",
       "</style>\n",
       "<table border=\"1\" class=\"dataframe\">\n",
       "  <thead>\n",
       "    <tr style=\"text-align: right;\">\n",
       "      <th></th>\n",
       "      <th>2010_idh</th>\n",
       "      <th>2010_%_gasto_saude</th>\n",
       "    </tr>\n",
       "  </thead>\n",
       "  <tbody>\n",
       "    <tr>\n",
       "      <th>2010_idh</th>\n",
       "      <td>1.000000</td>\n",
       "      <td>0.352607</td>\n",
       "    </tr>\n",
       "    <tr>\n",
       "      <th>2010_%_gasto_saude</th>\n",
       "      <td>0.352607</td>\n",
       "      <td>1.000000</td>\n",
       "    </tr>\n",
       "  </tbody>\n",
       "</table>\n",
       "</div>"
      ],
      "text/plain": [
       "                    2010_idh  2010_%_gasto_saude\n",
       "2010_idh            1.000000            0.352607\n",
       "2010_%_gasto_saude  0.352607            1.000000"
      ]
     },
     "execution_count": 232,
     "metadata": {},
     "output_type": "execute_result"
    }
   ],
   "source": [
    "tabela.loc[:, ['2010_idh','2010_%_gasto_saude']].corr()"
   ]
  },
  {
   "cell_type": "markdown",
   "metadata": {},
   "source": [
    "O caso acima mostra o impacto da porcentagem que o governo gasta em saúde com o IDH. Em comparação a análise anterior, é perceptível, apenas pelo gráfico, que o impacto da porcentagem gasta em saúde no IDH é menor que o da internet. \n",
    "\n",
    "Para se ter essa certeza, olha-se o valor da tabela. E realmente é bem menor que o da internet. \n",
    "\n",
    "Enquanto o da internet a correlação é de aproximadamente 0.9, em relação a saúde a correlação não chega nem a metade deste valor."
   ]
  },
  {
   "cell_type": "code",
   "execution_count": 233,
   "metadata": {},
   "outputs": [
    {
     "name": "stdout",
     "output_type": "stream",
     "text": [
      "Coef linear(b):  7.3103895680672615\n",
      "Coef angular(a): 2.2144792097327928\n"
     ]
    },
    {
     "data": {
      "image/png": "[encoded data removed]",
      "text/plain": [
       "<Figure size 432x288 with 1 Axes>"
      ]
     },
     "metadata": {},
     "output_type": "display_data"
    }
   ],
   "source": [
    "a,b = disp_reta(tabela, x=\"2010_%_gasto_saude\", y = '2010_%_internet')\n",
    "print('Coef linear(b): ', b)\n",
    "print('Coef angular(a):' , a)"
   ]
  },
  {
   "cell_type": "code",
   "execution_count": 234,
   "metadata": {},
   "outputs": [
    {
     "data": {
      "text/html": [
       "<div>\n",
       "<style scoped>\n",
       "    .dataframe tbody tr th:only-of-type {\n",
       "        vertical-align: middle;\n",
       "    }\n",
       "\n",
       "    .dataframe tbody tr th {\n",
       "        vertical-align: top;\n",
       "    }\n",
       "\n",
       "    .dataframe thead th {\n",
       "        text-align: right;\n",
       "    }\n",
       "</style>\n",
       "<table border=\"1\" class=\"dataframe\">\n",
       "  <thead>\n",
       "    <tr style=\"text-align: right;\">\n",
       "      <th></th>\n",
       "      <th>2010_%_gasto_saude</th>\n",
       "      <th>2010_%_internet</th>\n",
       "    </tr>\n",
       "  </thead>\n",
       "  <tbody>\n",
       "    <tr>\n",
       "      <th>2010_%_gasto_saude</th>\n",
       "      <td>1.000000</td>\n",
       "      <td>0.384032</td>\n",
       "    </tr>\n",
       "    <tr>\n",
       "      <th>2010_%_internet</th>\n",
       "      <td>0.384032</td>\n",
       "      <td>1.000000</td>\n",
       "    </tr>\n",
       "  </tbody>\n",
       "</table>\n",
       "</div>"
      ],
      "text/plain": [
       "                    2010_%_gasto_saude  2010_%_internet\n",
       "2010_%_gasto_saude            1.000000         0.384032\n",
       "2010_%_internet               0.384032         1.000000"
      ]
     },
     "execution_count": 234,
     "metadata": {},
     "output_type": "execute_result"
    }
   ],
   "source": [
    "tabela.loc[:, ['2010_%_gasto_saude','2010_%_internet']].corr()"
   ]
  },
  {
   "cell_type": "markdown",
   "metadata": {},
   "source": [
    "Esta última análise mostra a correlação entre as duas variáveis escolhidas para o Projeto 1. A princípio, olhando o gráfico entre estas duas variáveis, ele parece ser o gráfico que tem a menor correlação entre variáveis se comparado com os dois anteriores. E a tabela comprova que a afirmação de que \"é o gráfico com a menor correlação\" é falsa.\n",
    "\n",
    "Olhando os valores das tabelas:\n",
    "\n",
    "##### 0.87 entre  internet e IDH\n",
    "\n",
    "##### 0.35 entre  saúde e IDH\n",
    "\n",
    "##### 0.38 entre  saúde e internet\n",
    "\n",
    "Portanto, apesar de o gráfico levar a uma certa análise, a tabela mostra que os dados tem uma interpretação diferente. E que a influência que a internet tem na saúde é maior do que a influência que a saúde tem no IDH.\n",
    "\n"
   ]
  },
  {
   "cell_type": "markdown",
   "metadata": {},
   "source": [
    "# Análise temporal"
   ]
  },
  {
   "cell_type": "code",
   "execution_count": 235,
   "metadata": {},
   "outputs": [],
   "source": [
    "idhanos = pd.read_excel('idh_de_3_anos.xlsx')"
   ]
  },
  {
   "cell_type": "code",
   "execution_count": 236,
   "metadata": {},
   "outputs": [
    {
     "name": "stdout",
     "output_type": "stream",
     "text": [
      "Médias\n",
      "2000:  0.628\n",
      "2005:  0.651\n",
      "2010:  0.679\n",
      "\n",
      "\n",
      "Medianas\n",
      "2000:  0.656\n",
      "2005:  0.687\n",
      "2010:  0.711\n"
     ]
    }
   ],
   "source": [
    "mean2000 = idhanos[2000].mean()\n",
    "median2000 = idhanos[2000].median()\n",
    "mean2005 = idhanos[2005].mean()\n",
    "median2005=idhanos[2005].median()\n",
    "mean2010 = idhanos[2010].mean()\n",
    "median2010 = idhanos[2010].median()\n",
    "\n",
    "print('Médias\\n2000:  {0:.3f}\\n2005:  {1:.3f}\\n2010:  {2:.3f}'.format(mean2000,mean2005,mean2010))\n",
    "print('\\n\\nMedianas\\n2000:  {0:.3f}\\n2005:  {1:.3f}\\n2010:  {2:.3f}'.format(median2000,median2005,median2010))"
   ]
  },
  {
   "cell_type": "markdown",
   "metadata": {},
   "source": [
    "A análise feita acima foi a da evolução do IDH ao longo do tempo.\n",
    "\n",
    "Olhando o valor das médias e medianas é perceptível que o IDH dos países ao longo dos anos foi crescendo."
   ]
  },
  {
   "cell_type": "code",
   "execution_count": 237,
   "metadata": {},
   "outputs": [
    {
     "name": "stdout",
     "output_type": "stream",
     "text": [
      "Para estar entre os 10%:\n",
      "2000: maior que 0.8539999999999999\n",
      "2005: maior que 0.869\n",
      "2010: maior que0.8834\n"
     ]
    },
    {
     "data": {
      "image/png": "[encoded data removed]",
      "text/plain": [
       "<Figure size 432x288 with 1 Axes>"
      ]
     },
     "metadata": {},
     "output_type": "display_data"
    }
   ],
   "source": [
    "idhanos[2000].plot.hist()\n",
    "a = idhanos[2000].quantile(0.9)\n",
    "b = idhanos[2005].quantile(0.9)\n",
    "c = idhanos[2010].quantile(0.9)\n",
    "print('Para estar entre os 10%:\\n2000: maior que {0}\\n2005: maior que {1}\\n2010: maior que{2}'.format(a,b,c))"
   ]
  },
  {
   "cell_type": "markdown",
   "metadata": {},
   "source": [
    "Analisando ainda a evolução do IDH ao longo dos anos, foi visto acima o quanto mudou o valor para que um país pudesse ser considerado um dos 10% mais desenvolvidos do mundo. Assim como o valor da média e mediana, o valor para que um país alcançasse esse patamar subiu também.\n"
   ]
  },
  {
   "cell_type": "code",
   "execution_count": 238,
   "metadata": {},
   "outputs": [
    {
     "data": {
      "text/plain": [
       "<matplotlib.axes._subplots.AxesSubplot at 0x1a0cab66d8>"
      ]
     },
     "execution_count": 238,
     "metadata": {},
     "output_type": "execute_result"
    },
    {
     "data": {
      "image/png": "[encoded data removed]",
      "text/plain": [
       "<Figure size 432x288 with 1 Axes>"
      ]
     },
     "metadata": {},
     "output_type": "display_data"
    }
   ],
   "source": [
    "idhanos.plot.box()"
   ]
  },
  {
   "cell_type": "code",
   "execution_count": 239,
   "metadata": {},
   "outputs": [],
   "source": [
    "idhXinternet = pd.read_excel('anos_internet_idh.xlsx')"
   ]
  },
  {
   "cell_type": "code",
   "execution_count": 240,
   "metadata": {},
   "outputs": [
    {
     "data": {
      "text/html": [
       "<div>\n",
       "<style scoped>\n",
       "    .dataframe tbody tr th:only-of-type {\n",
       "        vertical-align: middle;\n",
       "    }\n",
       "\n",
       "    .dataframe tbody tr th {\n",
       "        vertical-align: top;\n",
       "    }\n",
       "\n",
       "    .dataframe thead th {\n",
       "        text-align: right;\n",
       "    }\n",
       "</style>\n",
       "<table border=\"1\" class=\"dataframe\">\n",
       "  <thead>\n",
       "    <tr style=\"text-align: right;\">\n",
       "      <th></th>\n",
       "      <th>2000_idh</th>\n",
       "      <th>2000_%_internet</th>\n",
       "    </tr>\n",
       "  </thead>\n",
       "  <tbody>\n",
       "    <tr>\n",
       "      <th>2000_idh</th>\n",
       "      <td>1.000000</td>\n",
       "      <td>0.689422</td>\n",
       "    </tr>\n",
       "    <tr>\n",
       "      <th>2000_%_internet</th>\n",
       "      <td>0.689422</td>\n",
       "      <td>1.000000</td>\n",
       "    </tr>\n",
       "  </tbody>\n",
       "</table>\n",
       "</div>"
      ],
      "text/plain": [
       "                 2000_idh  2000_%_internet\n",
       "2000_idh         1.000000         0.689422\n",
       "2000_%_internet  0.689422         1.000000"
      ]
     },
     "execution_count": 240,
     "metadata": {},
     "output_type": "execute_result"
    }
   ],
   "source": [
    "idhXinternet.set_index('geo')\n",
    "cor2000 = idhXinternet.loc[:, ['2000_idh','2000_%_internet']].corr()\n",
    "cor2000"
   ]
  },
  {
   "cell_type": "code",
   "execution_count": 241,
   "metadata": {},
   "outputs": [
    {
     "data": {
      "text/html": [
       "<div>\n",
       "<style scoped>\n",
       "    .dataframe tbody tr th:only-of-type {\n",
       "        vertical-align: middle;\n",
       "    }\n",
       "\n",
       "    .dataframe tbody tr th {\n",
       "        vertical-align: top;\n",
       "    }\n",
       "\n",
       "    .dataframe thead th {\n",
       "        text-align: right;\n",
       "    }\n",
       "</style>\n",
       "<table border=\"1\" class=\"dataframe\">\n",
       "  <thead>\n",
       "    <tr style=\"text-align: right;\">\n",
       "      <th></th>\n",
       "      <th>2005_idh</th>\n",
       "      <th>2005_%_internet</th>\n",
       "    </tr>\n",
       "  </thead>\n",
       "  <tbody>\n",
       "    <tr>\n",
       "      <th>2005_idh</th>\n",
       "      <td>1.000000</td>\n",
       "      <td>0.783003</td>\n",
       "    </tr>\n",
       "    <tr>\n",
       "      <th>2005_%_internet</th>\n",
       "      <td>0.783003</td>\n",
       "      <td>1.000000</td>\n",
       "    </tr>\n",
       "  </tbody>\n",
       "</table>\n",
       "</div>"
      ],
      "text/plain": [
       "                 2005_idh  2005_%_internet\n",
       "2005_idh         1.000000         0.783003\n",
       "2005_%_internet  0.783003         1.000000"
      ]
     },
     "execution_count": 241,
     "metadata": {},
     "output_type": "execute_result"
    }
   ],
   "source": [
    "cor2005= idhXinternet.loc[:, ['2005_idh','2005_%_internet']].corr()\n",
    "cor2005"
   ]
  },
  {
   "cell_type": "markdown",
   "metadata": {},
   "source": [
    "Esta última análise foi feita para ver, também ao longo do tempo, a evolução da correlação entre a variável da porcentagem de internet usada por uma população VS IDH.\n",
    "\n",
    "Comparando as tabelas de 2000, 2005 e 2010, é possível ver um aumento de ano para ano em relação a essa correlação. \n",
    "\n",
    "Isso significa dizer que a cada ano o impacto que a internet teve no IDH foi cada vez maior."
   ]
  },
  {
   "cell_type": "markdown",
   "metadata": {},
   "source": [
    "# Conclusão"
   ]
  },
  {
   "cell_type": "markdown",
   "metadata": {},
   "source": [
    "Os dados fazem com que se possa ver a veracidade de uma informação. Portanto, saber extrair valores de uma tabela para uma análise específica, é de muita importância.\n",
    "\n",
    "Em relação as 2 variáveis extraídas, juntamente com o IDH, é perceptível que a medida em que a população de um país vai tendo acesso à internet, o IDH do país tende a aumentar. E, diferentemente do que eu imaginava, a porcentagem gasta em saúde pelo governo não tem um impacto grande no IDH, e isto não significa que está errado, pois os dados mostram o fato.\n",
    "\n",
    "Para Fabiola Sulpino, doutora em Saúde Coletiva, \"é preciso investir mais em saúde pública no país, e isso significa alocar mais recursos para o funcionamento dos serviços com qualidade, para a ampliação da oferta e a melhoria da gestão(...)temos que debater mais sobre a importância da saúde e sobre como financiá-la. As escolhas do passado podem estar comprometendo significativamente o desenvolvimento econômico e social de nossa nação.\"(entrevista para a Revista Construção). Portanto, não é porque a influência da saúde no IDH está baixa agora que vai continuar assim. Se as mudanças forem feitas de maneira correta e racional, esses dados tendem a mudar.\n",
    "\n",
    "Já a internet vem crescendo de maneira muito acelerada, tendo influência em diversos campos. Na Era Digital, a internet age como um facilitador, principalmente para o acesso e troca de informações, sendo estes dois fatores um dos principais responsáveis pela internet ser o que é hoje. \n",
    "\n",
    "No blog de Eduardo Finzi, diretor da Cedro, ele afirma em relação as informações proporcionadas pela internet que \"se forem utilizadas de forma correta, poderão contribuir para a melhora da entrega e qualidade dos serviços prestados para nossa sociedade.\". Esta afirmação de Eduardo, resume como um todo o impacto das variáveis utilizadas para este projeto: a internet se utilizada de boa maneira ajudará para a qualidade de serviços prestados a sociedade, como a saúde, que consequentemente ajudará no IDH. E que apesar de a solução parecer ser fácil de ser resolvida, muitas outras questões e burocracias estão envolvidas para que isto ocorrá.\n",
    "\n"
   ]
  },
  {
   "cell_type": "code",
   "execution_count": null,
   "metadata": {},
   "outputs": [],
   "source": []
  }
 ],
 "metadata": {
  "kernelspec": {
   "display_name": "Python 3",
   "language": "python",
   "name": "python3"
  },
  "language_info": {
   "codemirror_mode": {
    "name": "ipython",
    "version": 3
   },
   "file_extension": ".py",
   "mimetype": "text/x-python",
   "name": "python",
   "nbconvert_exporter": "python",
   "pygments_lexer": "ipython3",
   "version": "3.6.5"
  }
 },
 "nbformat": 4,
 "nbformat_minor": 2
}
