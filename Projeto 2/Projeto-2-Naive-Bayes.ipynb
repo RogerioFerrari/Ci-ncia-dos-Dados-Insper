{
 "cells": [
  {
   "cell_type": "markdown",
   "metadata": {},
   "source": [
    "# Projeto 2 - Classificador Automático de Sentimento\n",
    "\n",
    "Você foi contratado por uma empresa parar analisar como os clientes estão reagindo a um determinado produto no Twitter. A empresa deseja que você crie um programa que irá analisar as mensagens disponíveis e classificará como \"relevante\" ou \"irrelevante\". Com isso ela deseja que mensagens negativas, que denigrem o nome do produto, ou que mereçam destaque, disparem um foco de atenção da área de marketing.<br /><br />\n",
    "Como aluno de Ciência dos Dados, você lembrou do Teorema de Bayes, mais especificamente do Classificador Naive-Bayes, que é largamente utilizado em filtros anti-spam de e-mails. O classificador permite calcular qual a probabilidade de uma mensagem ser relevante dadas as palavras em seu conteúdo.<br /><br />\n",
    "Para realizar o MVP (*minimum viable product*) do projeto, você precisa implementar uma versão do classificador que \"aprende\" o que é relevante com uma base de treinamento e compara a performance dos resultados com uma base de testes.<br /><br />\n",
    "Após validado, o seu protótipo poderá também capturar e classificar automaticamente as mensagens da plataforma.\n",
    "\n",
    "## Informações do Projeto\n",
    "\n",
    "Prazo: 19/Set até às 23:59.<br />\n",
    "Grupo: 2 ou 3 pessoas - grupos com 3 pessoas terá uma rubrica diferenciada.<br /><br />\n",
    "Entregáveis via GitHub: \n",
    "* Arquivo notebook com o código do classificador, seguindo as orientações abaixo.\n",
    "* Arquivo Excel com as bases de treinamento e teste totalmente classificado.\n",
    "\n",
    "**NÃO gravar a key do professor no arquivo**\n",
    "\n",
    "\n",
    "### Entrega Intermediária: Check 1 - APS 2\n",
    "\n",
    "Até o dia 10/Set às 23:59, xlsx deve estar no Github com as seguintes evidências: \n",
    "\n",
    "  * Produto escolhido.\n",
    "  * Arquivo Excel contendo a base de treinamento e a base de testes já classificadas.\n",
    "\n",
    "Sugestão de leitura:<br />\n",
    "https://monkeylearn.com/blog/practical-explanation-naive-bayes-classifier/"
   ]
  },
  {
   "cell_type": "markdown",
   "metadata": {},
   "source": [
    "___\n",
    "\n",
    "## Parte I - Adquirindo a Base de Dados\n",
    "\n",
    "Acessar o notebook **Projeto-2-Planilha** para realizar a coleta dos dados. O grupo deve classificar os dados coletados manualmente."
   ]
  },
  {
   "cell_type": "markdown",
   "metadata": {},
   "source": [
    "___\n",
    "## Parte II - Montando o Classificador Naive-Bayes\n",
    "\n",
    "Com a base de treinamento montada, comece a desenvolver o classificador. Não se esqueça de implementar o Laplace Smoothing (https://en.wikipedia.org/wiki/Laplace_smoothing).\n",
    "\n",
    "Opcionalmente: \n",
    "* Limpar as mensagens removendo os caracteres: enter, :, \", ', (, ), etc. Não remover emojis.<br />\n",
    "* Corrigir separação de espaços entre palavras e/ou emojis.\n",
    "* Propor outras limpezas/transformações que não afetem a qualidade da informação.\n",
    "\n",
    "Escreva o seu código abaixo:"
   ]
  },
  {
   "cell_type": "code",
   "execution_count": 25,
   "metadata": {},
   "outputs": [],
   "source": [
    "#P(Relevante| \"Saiu novo iphone\") = P('saiu|Relevante) X P('novo'|Relevante) X P('iphone'|Relevante)\n",
    "\n",
    "#P(palavra|Relevante) = P(Relevante)*P(palavra)\n",
    "\n",
    "# A probabilidade de 'Relevante' não é preciso calcular\n",
    "\n",
    "# A probabilidade de 'palavra' é calculada contando quantas vezes a 'palavra' aparece em 'Relevante' e divide pelo total de palavras"
   ]
  },
  {
   "cell_type": "code",
   "execution_count": 28,
   "metadata": {},
   "outputs": [
    {
     "data": {
      "text/plain": [
       "0    0.743333\n",
       "1    0.256667\n",
       "Name: Checando, dtype: float64"
      ]
     },
     "execution_count": 28,
     "metadata": {},
     "output_type": "execute_result"
    }
   ],
   "source": [
    "%matplotlib inline\n",
    "import pandas as pd\n",
    "import numpy as np\n",
    "from math import *\n",
    "from scipy import stats\n",
    "import matplotlib.pyplot as plt\n",
    "import seaborn as sns\n",
    "from collections import Counter\n",
    "\n",
    "tabela = pd.read_excel('tweets_whey.xlsx')\n",
    "r_ou_i = tabela.Checando.value_counts(True)\n",
    "treino = tabela.Treinamento\n",
    "x = tabela.Checando\n",
    "r_ou_i"
   ]
  },
  {
   "cell_type": "code",
   "execution_count": 31,
   "metadata": {},
   "outputs": [],
   "source": [
    "# CONTAGEM DE PALAVRAS NO DICIONÁRIO INTEIRO\n",
    "\n",
    "tabela.head(2)\n",
    "a = []\n",
    "frases = tabela.loc[:,'Treinamento']\n",
    "dicio = {}\n",
    "chaves = []\n",
    "for i in frases:\n",
    "    divide = i.split()\n",
    "    a.append(divide)\n",
    "\n",
    "conta = Counter(x for sublista in a for x in sublista)\n",
    "for i in conta:\n",
    "    dicio[i]=conta[i]\n",
    "remover = [',', '!','.','@','/','?']\n",
    "for i in remover:\n",
    "    if i in dicio:\n",
    "        dicio.pop(i)\n",
    "for chave in dicio.keys():\n",
    "    chaves.append(chave)\n",
    "keys = set(chaves)\n",
    "contagem_dicio = len(keys)"
   ]
  },
  {
   "cell_type": "code",
   "execution_count": 30,
   "metadata": {},
   "outputs": [
    {
     "data": {
      "text/plain": [
       "1016"
      ]
     },
     "execution_count": 30,
     "metadata": {},
     "output_type": "execute_result"
    }
   ],
   "source": [
    "# CONTAGEM DE PALAVRAS QUANDO A FRASE É RELEVANTE\n",
    "\n",
    "I = 0.743333\n",
    "R = 0.256667\n",
    "\n",
    "relevante = tabela[tabela.Checando==1]\n",
    "\n",
    "a = []\n",
    "frases_relevantes = relevante.loc[:,'Treinamento']\n",
    "d_relevante = {}\n",
    "for i in frases_relevantes:\n",
    "    divide = i.split()\n",
    "    a.append(divide)\n",
    "\n",
    "conta = Counter(x for sublista in a for x in sublista)\n",
    "for i in conta:\n",
    "    d_relevante[i]=conta[i]\n",
    "remover = [',', '!','.','@','/','?']\n",
    "for i in remover:\n",
    "    if i in d_relevante:\n",
    "        d_relevante.pop(i)\n",
    "contagem_d_relevante = pd.Series(d_relevante).sum()\n",
    "contagem_d_relevante"
   ]
  },
  {
   "cell_type": "code",
   "execution_count": 32,
   "metadata": {},
   "outputs": [
    {
     "data": {
      "text/plain": [
       "4086"
      ]
     },
     "execution_count": 32,
     "metadata": {},
     "output_type": "execute_result"
    }
   ],
   "source": [
    "# CONTAGEM DE PALAVRAS QUANDO A FRASE É IRRELEVANTE\n",
    "\n",
    "irrelevante = tabela[tabela.Checando==0]\n",
    "\n",
    "a = []\n",
    "frases_irrelevantes = irrelevante.loc[:,'Treinamento']\n",
    "d_irrelevante = {}\n",
    "for i in frases_irrelevantes:\n",
    "    divide = i.split()\n",
    "    a.append(divide)\n",
    "\n",
    "conta = Counter(x for sublista in a for x in sublista)\n",
    "for i in conta:\n",
    "    d_irrelevante[i]=conta[i]\n",
    "remover = [',', '!','.','@','/','?']\n",
    "for i in remover:\n",
    "    if i in d_irrelevante:\n",
    "        d_irrelevante.pop(i)\n",
    "contagem_d_irrelevante = pd.Series(d_irrelevante).sum()\n",
    "contagem_d_irrelevante"
   ]
  },
  {
   "cell_type": "code",
   "execution_count": 33,
   "metadata": {},
   "outputs": [
    {
     "data": {
      "text/plain": [
       "0.0011320754716981133"
      ]
     },
     "execution_count": 33,
     "metadata": {},
     "output_type": "execute_result"
    }
   ],
   "source": [
    "#Classificador\n",
    "\n",
    "def Classificador(Lista):\n",
    "    Lista_classificada = []\n",
    "    for i in Lista:\n",
    "        w= i.split()\n",
    "        PR = []\n",
    "        PNR = []\n",
    "        for k in w:\n",
    "            PR.append(Prob_Rr(k))\n",
    "            PNR.append(Prob_NRr(k))\n",
    "        P_Relevante = 1\n",
    "        P_Irrelevante = 1\n",
    "        for i in PR:\n",
    "            P_Relevante *= i\n",
    "        for i in PNR:\n",
    "            P_Irrelevante *= i\n",
    "        Prel = P_Relevante*Prob_R\n",
    "        Pirrel = P_Irrelevante*Prob_NR\n",
    "        if Prel > Pirrel:\n",
    "            Lista_classificada.append('Relevante')\n",
    "        else:\n",
    "            Lista_classificada.append('Irrelevante')\n",
    "    return Lista_classificada\n",
    "\n",
    "#prob_relevante = {}\n",
    "#prob_irrelevante = {}\n",
    "#for palavra in dicio:\n",
    "   # if palavra in d_relevante:\n",
    "    #    conta_relevante= (d_relevante[palavra]+1)/(contagem_d_relevante+contagem_dicio)\n",
    "      #  prob_relevante[palavra] = conta_relevante\n",
    "    \n",
    "   # if palavra in d_irrelevante:\n",
    "    #    conta_irrelevante = (d_irrelevante[palavra]+1)/(contagem_d_irrelevante+contagem_dicio)\n",
    "    #    prob_irrelevante[palavra] = conta_irrelevante\n",
    "#prob_relevante['bom']    \n",
    "    "
   ]
  },
  {
   "cell_type": "code",
   "execution_count": 34,
   "metadata": {},
   "outputs": [
    {
     "data": {
      "text/html": [
       "<div>\n",
       "<style scoped>\n",
       "    .dataframe tbody tr th:only-of-type {\n",
       "        vertical-align: middle;\n",
       "    }\n",
       "\n",
       "    .dataframe tbody tr th {\n",
       "        vertical-align: top;\n",
       "    }\n",
       "\n",
       "    .dataframe thead th {\n",
       "        text-align: right;\n",
       "    }\n",
       "</style>\n",
       "<table border=\"1\" class=\"dataframe\">\n",
       "  <thead>\n",
       "    <tr style=\"text-align: right;\">\n",
       "      <th></th>\n",
       "      <th>Treinamento</th>\n",
       "      <th>Checando</th>\n",
       "      <th>Computador</th>\n",
       "    </tr>\n",
       "  </thead>\n",
       "  <tbody>\n",
       "    <tr>\n",
       "      <th>0</th>\n",
       "      <td>rt @galaumironic: ô juiz se você acabar o jogo...</td>\n",
       "      <td>0</td>\n",
       "      <td>0</td>\n",
       "    </tr>\n",
       "    <tr>\n",
       "      <th>1</th>\n",
       "      <td>mano whey é mt ruim quem q gosta de tomar isso</td>\n",
       "      <td>1</td>\n",
       "      <td>1</td>\n",
       "    </tr>\n",
       "  </tbody>\n",
       "</table>\n",
       "</div>"
      ],
      "text/plain": [
       "                                         Treinamento  Checando  Computador\n",
       "0  rt @galaumironic: ô juiz se você acabar o jogo...         0           0\n",
       "1     mano whey é mt ruim quem q gosta de tomar isso         1           1"
      ]
     },
     "execution_count": 34,
     "metadata": {},
     "output_type": "execute_result"
    }
   ],
   "source": [
    "lista = []\n",
    "for i in tabela.Treinamento:\n",
    "    frase = i\n",
    "    divide = frase.split()\n",
    "    positivo = 1\n",
    "    negativo = 1\n",
    "    for palavra in divide:\n",
    "        if palavra in d_relevante:\n",
    "            positivo *= prob_relevante[palavra]\n",
    "        if palavra in d_irrelevante:\n",
    "            negativo *= prob_irrelevante[palavra]    \n",
    "        if palavra not in d_relevante:\n",
    "            conta_relevante_zero= 1/(contagem_d_relevante+contagem_dicio)\n",
    "            prob_relevante[palavra] = conta_relevante_zero   \n",
    "            positivo *= prob_relevante[palavra]\n",
    "        if palavra not in d_irrelevante:\n",
    "            conta_irrelevante_zero = 1/(contagem_d_irrelevante+contagem_dicio)\n",
    "            prob_irrelevante[palavra] = conta_irrelevante_zero\n",
    "            negativo *= prob_irrelevante[palavra]    \n",
    "        #print('REl {0}\\nIRRel {1}'.format(prob_relevante[palavra],prob_irrelevante[palavra]))\n",
    "    positivo_final = positivo*R\n",
    "    negativo_final = negativo*I\n",
    "    #print('REl {0}\\nIRREl {1}'.format(positivo_final,negativo_final))\n",
    "    if positivo_final > negativo_final:\n",
    "        lista.append(1)\n",
    "    else:\n",
    "        lista.append(0)\n",
    "tabela['Computador'] = lista\n",
    "tabela.head(2)"
   ]
  },
  {
   "cell_type": "code",
   "execution_count": null,
   "metadata": {},
   "outputs": [],
   "source": []
  },
  {
   "cell_type": "code",
   "execution_count": null,
   "metadata": {},
   "outputs": [],
   "source": []
  },
  {
   "cell_type": "markdown",
   "metadata": {},
   "source": [
    "___\n",
    "## Verificando a performance\n",
    "\n",
    "Agora você deve testar o seu Classificador com a base de Testes.<br /><br /> \n",
    "\n",
    "Você deve extrair as seguintes medidas:\n",
    "* Porcentagem de positivos falsos (marcados como relevante mas não são relevantes)\n",
    "* Porcentagem de positivos verdadeiros (marcado como relevante e são relevantes)\n",
    "* Porcentagem de negativos verdadeiros (marcado como não relevante e não são relevantes)\n",
    "* Porcentagem de negativos falsos (marcado como não relevante e são relevantes)\n",
    "\n",
    "Obrigatório para grupos de 3 alunos:\n",
    "* Criar categorias intermediárias de relevância baseado na diferença de probabilidades. Exemplo: muito relevante, relevante, neutro, irrelevante e muito irrelevante."
   ]
  },
  {
   "cell_type": "code",
   "execution_count": 35,
   "metadata": {
    "scrolled": true
   },
   "outputs": [
    {
     "data": {
      "text/plain": [
       "0    @diegolugano é so contratar um goleiro !!!\\n\\n...\n",
       "1    comprei um shake de whey protein q tem gosto d...\n",
       "Name: Teste, dtype: object"
      ]
     },
     "execution_count": 35,
     "metadata": {},
     "output_type": "execute_result"
    }
   ],
   "source": [
    "teste = pd.read_excel('tweets_whey.xlsx','Teste')\n",
    "teste.Teste[:2]"
   ]
  },
  {
   "cell_type": "code",
   "execution_count": null,
   "metadata": {},
   "outputs": [],
   "source": []
  },
  {
   "cell_type": "code",
   "execution_count": 36,
   "metadata": {},
   "outputs": [
    {
     "ename": "ValueError",
     "evalue": "Length of values does not match length of index",
     "output_type": "error",
     "traceback": [
      "\u001b[0;31m---------------------------------------------------------------------------\u001b[0m",
      "\u001b[0;31mValueError\u001b[0m                                Traceback (most recent call last)",
      "\u001b[0;32m<ipython-input-36-eb30978956d7>\u001b[0m in \u001b[0;36m<module>\u001b[0;34m()\u001b[0m\n\u001b[1;32m     26\u001b[0m     \u001b[0;32melse\u001b[0m\u001b[0;34m:\u001b[0m\u001b[0;34m\u001b[0m\u001b[0m\n\u001b[1;32m     27\u001b[0m         \u001b[0mlista\u001b[0m\u001b[0;34m.\u001b[0m\u001b[0mappend\u001b[0m\u001b[0;34m(\u001b[0m\u001b[0;36m0\u001b[0m\u001b[0;34m)\u001b[0m\u001b[0;34m\u001b[0m\u001b[0m\n\u001b[0;32m---> 28\u001b[0;31m \u001b[0mteste\u001b[0m\u001b[0;34m[\u001b[0m\u001b[0;34m'Comparador'\u001b[0m\u001b[0;34m]\u001b[0m \u001b[0;34m=\u001b[0m \u001b[0mlista1\u001b[0m\u001b[0;34m\u001b[0m\u001b[0m\n\u001b[0m\u001b[1;32m     29\u001b[0m \u001b[0mteste\u001b[0m\u001b[0;34m.\u001b[0m\u001b[0mhead\u001b[0m\u001b[0;34m(\u001b[0m\u001b[0;36m2\u001b[0m\u001b[0;34m)\u001b[0m\u001b[0;34m\u001b[0m\u001b[0m\n",
      "\u001b[0;32m/anaconda3/lib/python3.6/site-packages/pandas/core/frame.py\u001b[0m in \u001b[0;36m__setitem__\u001b[0;34m(self, key, value)\u001b[0m\n\u001b[1;32m   3114\u001b[0m         \u001b[0;32melse\u001b[0m\u001b[0;34m:\u001b[0m\u001b[0;34m\u001b[0m\u001b[0m\n\u001b[1;32m   3115\u001b[0m             \u001b[0;31m# set column\u001b[0m\u001b[0;34m\u001b[0m\u001b[0;34m\u001b[0m\u001b[0m\n\u001b[0;32m-> 3116\u001b[0;31m             \u001b[0mself\u001b[0m\u001b[0;34m.\u001b[0m\u001b[0m_set_item\u001b[0m\u001b[0;34m(\u001b[0m\u001b[0mkey\u001b[0m\u001b[0;34m,\u001b[0m \u001b[0mvalue\u001b[0m\u001b[0;34m)\u001b[0m\u001b[0;34m\u001b[0m\u001b[0m\n\u001b[0m\u001b[1;32m   3117\u001b[0m \u001b[0;34m\u001b[0m\u001b[0m\n\u001b[1;32m   3118\u001b[0m     \u001b[0;32mdef\u001b[0m \u001b[0m_setitem_slice\u001b[0m\u001b[0;34m(\u001b[0m\u001b[0mself\u001b[0m\u001b[0;34m,\u001b[0m \u001b[0mkey\u001b[0m\u001b[0;34m,\u001b[0m \u001b[0mvalue\u001b[0m\u001b[0;34m)\u001b[0m\u001b[0;34m:\u001b[0m\u001b[0;34m\u001b[0m\u001b[0m\n",
      "\u001b[0;32m/anaconda3/lib/python3.6/site-packages/pandas/core/frame.py\u001b[0m in \u001b[0;36m_set_item\u001b[0;34m(self, key, value)\u001b[0m\n\u001b[1;32m   3189\u001b[0m \u001b[0;34m\u001b[0m\u001b[0m\n\u001b[1;32m   3190\u001b[0m         \u001b[0mself\u001b[0m\u001b[0;34m.\u001b[0m\u001b[0m_ensure_valid_index\u001b[0m\u001b[0;34m(\u001b[0m\u001b[0mvalue\u001b[0m\u001b[0;34m)\u001b[0m\u001b[0;34m\u001b[0m\u001b[0m\n\u001b[0;32m-> 3191\u001b[0;31m         \u001b[0mvalue\u001b[0m \u001b[0;34m=\u001b[0m \u001b[0mself\u001b[0m\u001b[0;34m.\u001b[0m\u001b[0m_sanitize_column\u001b[0m\u001b[0;34m(\u001b[0m\u001b[0mkey\u001b[0m\u001b[0;34m,\u001b[0m \u001b[0mvalue\u001b[0m\u001b[0;34m)\u001b[0m\u001b[0;34m\u001b[0m\u001b[0m\n\u001b[0m\u001b[1;32m   3192\u001b[0m         \u001b[0mNDFrame\u001b[0m\u001b[0;34m.\u001b[0m\u001b[0m_set_item\u001b[0m\u001b[0;34m(\u001b[0m\u001b[0mself\u001b[0m\u001b[0;34m,\u001b[0m \u001b[0mkey\u001b[0m\u001b[0;34m,\u001b[0m \u001b[0mvalue\u001b[0m\u001b[0;34m)\u001b[0m\u001b[0;34m\u001b[0m\u001b[0m\n\u001b[1;32m   3193\u001b[0m \u001b[0;34m\u001b[0m\u001b[0m\n",
      "\u001b[0;32m/anaconda3/lib/python3.6/site-packages/pandas/core/frame.py\u001b[0m in \u001b[0;36m_sanitize_column\u001b[0;34m(self, key, value, broadcast)\u001b[0m\n\u001b[1;32m   3386\u001b[0m \u001b[0;34m\u001b[0m\u001b[0m\n\u001b[1;32m   3387\u001b[0m             \u001b[0;31m# turn me into an ndarray\u001b[0m\u001b[0;34m\u001b[0m\u001b[0;34m\u001b[0m\u001b[0m\n\u001b[0;32m-> 3388\u001b[0;31m             \u001b[0mvalue\u001b[0m \u001b[0;34m=\u001b[0m \u001b[0m_sanitize_index\u001b[0m\u001b[0;34m(\u001b[0m\u001b[0mvalue\u001b[0m\u001b[0;34m,\u001b[0m \u001b[0mself\u001b[0m\u001b[0;34m.\u001b[0m\u001b[0mindex\u001b[0m\u001b[0;34m,\u001b[0m \u001b[0mcopy\u001b[0m\u001b[0;34m=\u001b[0m\u001b[0;32mFalse\u001b[0m\u001b[0;34m)\u001b[0m\u001b[0;34m\u001b[0m\u001b[0m\n\u001b[0m\u001b[1;32m   3389\u001b[0m             \u001b[0;32mif\u001b[0m \u001b[0;32mnot\u001b[0m \u001b[0misinstance\u001b[0m\u001b[0;34m(\u001b[0m\u001b[0mvalue\u001b[0m\u001b[0;34m,\u001b[0m \u001b[0;34m(\u001b[0m\u001b[0mnp\u001b[0m\u001b[0;34m.\u001b[0m\u001b[0mndarray\u001b[0m\u001b[0;34m,\u001b[0m \u001b[0mIndex\u001b[0m\u001b[0;34m)\u001b[0m\u001b[0;34m)\u001b[0m\u001b[0;34m:\u001b[0m\u001b[0;34m\u001b[0m\u001b[0m\n\u001b[1;32m   3390\u001b[0m                 \u001b[0;32mif\u001b[0m \u001b[0misinstance\u001b[0m\u001b[0;34m(\u001b[0m\u001b[0mvalue\u001b[0m\u001b[0;34m,\u001b[0m \u001b[0mlist\u001b[0m\u001b[0;34m)\u001b[0m \u001b[0;32mand\u001b[0m \u001b[0mlen\u001b[0m\u001b[0;34m(\u001b[0m\u001b[0mvalue\u001b[0m\u001b[0;34m)\u001b[0m \u001b[0;34m>\u001b[0m \u001b[0;36m0\u001b[0m\u001b[0;34m:\u001b[0m\u001b[0;34m\u001b[0m\u001b[0m\n",
      "\u001b[0;32m/anaconda3/lib/python3.6/site-packages/pandas/core/series.py\u001b[0m in \u001b[0;36m_sanitize_index\u001b[0;34m(data, index, copy)\u001b[0m\n\u001b[1;32m   3996\u001b[0m \u001b[0;34m\u001b[0m\u001b[0m\n\u001b[1;32m   3997\u001b[0m     \u001b[0;32mif\u001b[0m \u001b[0mlen\u001b[0m\u001b[0;34m(\u001b[0m\u001b[0mdata\u001b[0m\u001b[0;34m)\u001b[0m \u001b[0;34m!=\u001b[0m \u001b[0mlen\u001b[0m\u001b[0;34m(\u001b[0m\u001b[0mindex\u001b[0m\u001b[0;34m)\u001b[0m\u001b[0;34m:\u001b[0m\u001b[0;34m\u001b[0m\u001b[0m\n\u001b[0;32m-> 3998\u001b[0;31m         \u001b[0;32mraise\u001b[0m \u001b[0mValueError\u001b[0m\u001b[0;34m(\u001b[0m\u001b[0;34m'Length of values does not match length of '\u001b[0m \u001b[0;34m'index'\u001b[0m\u001b[0;34m)\u001b[0m\u001b[0;34m\u001b[0m\u001b[0m\n\u001b[0m\u001b[1;32m   3999\u001b[0m \u001b[0;34m\u001b[0m\u001b[0m\n\u001b[1;32m   4000\u001b[0m     \u001b[0;32mif\u001b[0m \u001b[0misinstance\u001b[0m\u001b[0;34m(\u001b[0m\u001b[0mdata\u001b[0m\u001b[0;34m,\u001b[0m \u001b[0mABCIndexClass\u001b[0m\u001b[0;34m)\u001b[0m \u001b[0;32mand\u001b[0m \u001b[0;32mnot\u001b[0m \u001b[0mcopy\u001b[0m\u001b[0;34m:\u001b[0m\u001b[0;34m\u001b[0m\u001b[0m\n",
      "\u001b[0;31mValueError\u001b[0m: Length of values does not match length of index"
     ]
    }
   ],
   "source": [
    "lista1 = []\n",
    "for i in teste:\n",
    "    frase = i\n",
    "    divide = frase.split()\n",
    "    positivo = 1\n",
    "    negativo = 1\n",
    "    for palavra in divide:\n",
    "        if palavra in d_relevante:\n",
    "            positivo *= prob_relevante[palavra]\n",
    "        if palavra in d_irrelevante:\n",
    "            negativo *= prob_irrelevante[palavra]    \n",
    "        if palavra not in d_relevante:\n",
    "            conta_relevante_zero= 1/(contagem_d_relevante+contagem_dicio)\n",
    "            prob_relevante[palavra] = conta_relevante_zero   \n",
    "            positivo *= prob_relevante[palavra]\n",
    "        if palavra not in d_irrelevante:\n",
    "            conta_irrelevante_zero = 1/(contagem_d_irrelevante+contagem_dicio)\n",
    "            prob_irrelevante[palavra] = conta_irrelevante_zero\n",
    "            negativo *= prob_irrelevante[palavra]    \n",
    "        #print('REl {0}\\nIRRel {1}'.format(prob_relevante[palavra],prob_irrelevante[palavra]))\n",
    "    positivo_final = positivo*R\n",
    "    negativo_final = negativo*I\n",
    "    #print('REl {0}\\nIRREl {1}'.format(positivo_final,negativo_final))\n",
    "    if positivo_final > negativo_final:\n",
    "        lista.append(1)\n",
    "    else:\n",
    "        lista.append(0)\n",
    "teste['Comparador'] = lista1\n",
    "teste.head(2)"
   ]
  },
  {
   "cell_type": "code",
   "execution_count": 37,
   "metadata": {},
   "outputs": [
    {
     "ename": "NameError",
     "evalue": "name 'Classificador' is not defined",
     "output_type": "error",
     "traceback": [
      "\u001b[0;31m---------------------------------------------------------------------------\u001b[0m",
      "\u001b[0;31mNameError\u001b[0m                                 Traceback (most recent call last)",
      "\u001b[0;32m<ipython-input-37-5fe6e8a79a33>\u001b[0m in \u001b[0;36m<module>\u001b[0;34m()\u001b[0m\n\u001b[1;32m      2\u001b[0m \u001b[0;32mfor\u001b[0m \u001b[0mi\u001b[0m \u001b[0;32min\u001b[0m \u001b[0mteste\u001b[0m\u001b[0;34m:\u001b[0m\u001b[0;34m\u001b[0m\u001b[0m\n\u001b[1;32m      3\u001b[0m     \u001b[0mFrases_teste\u001b[0m\u001b[0;34m.\u001b[0m\u001b[0mappend\u001b[0m\u001b[0;34m(\u001b[0m\u001b[0mi\u001b[0m\u001b[0;34m)\u001b[0m\u001b[0;34m\u001b[0m\u001b[0m\n\u001b[0;32m----> 4\u001b[0;31m \u001b[0mTeste_Final\u001b[0m \u001b[0;34m=\u001b[0m \u001b[0mClassificador\u001b[0m\u001b[0;34m(\u001b[0m\u001b[0mFrases_teste\u001b[0m\u001b[0;34m)\u001b[0m\u001b[0;34m\u001b[0m\u001b[0m\n\u001b[0m\u001b[1;32m      5\u001b[0m \u001b[0mprint\u001b[0m\u001b[0;34m(\u001b[0m\u001b[0mTeste_Final\u001b[0m\u001b[0;34m)\u001b[0m\u001b[0;34m\u001b[0m\u001b[0m\n",
      "\u001b[0;31mNameError\u001b[0m: name 'Classificador' is not defined"
     ]
    }
   ],
   "source": [
    "Frases_teste = []\n",
    "for i in teste:\n",
    "    Frases_teste.append(i)\n",
    "Teste_Final = Classificador(Frases_teste)\n",
    "print(Teste_Final)"
   ]
  },
  {
   "cell_type": "code",
   "execution_count": null,
   "metadata": {},
   "outputs": [],
   "source": [
    "#teste = Data_Teste.Relevância\n",
    "\n",
    "PositivosF= 0\n",
    "for i in range(len(Teste_Final)) and range(len(teste)):\n",
    "    if Final[i] == 'Relevante' and teste[i] == \"0\":\n",
    "        Positivos_Falsos += 1\n",
    "print('Positivos Falsos: {0}'.format(Positivos_Falsos/200))\n",
    "\n",
    "Positivos_Verdadeiros = 0\n",
    "for i in range(len(Teste_Final)) and range(len(teste)):\n",
    "    if Final[i] == 'Relevante' and teste[i] == \"1\":\n",
    "        Positivos_Verdadeiros += 1\n",
    "print('Positivos Verdadeiros: {0}'.format(Positivos_Verdadeiros/200))\n",
    "\n",
    "Negativos_Verdadeiros = 0\n",
    "for i in range(len(Teste_Final)) and range(len(teste)):\n",
    "    if Final[i] == 'Irrelevante' and teste[i] == \"0\":\n",
    "        Negativos_Verdadeiros += 1\n",
    "print('Negativos Verdadeiros: {0}'.format(Negativos_Verdadeiros/200))\n",
    "\n",
    "Negativos_Falsos = 0\n",
    "for i in range(len(Teste_Final)) and range(len(teste)):\n",
    "    if Final[i] == 'Irrelevante' and teste[i] == \"1\":\n",
    "        Negativos_Falsos += 1\n",
    "print('Negativos Falsos: {0}'.format(Negativos_Falsos/200))"
   ]
  },
  {
   "cell_type": "markdown",
   "metadata": {},
   "source": [
    "___\n",
    "## Concluindo\n",
    "\n",
    "Escreva aqui a sua conclusão.<br /> \n",
    "Faça um comparativo qualitativo sobre as medidas obtidas.<br />\n",
    "Explique como são tratadas as mensagens com dupla negação e sarcasmo.<br />\n",
    "Proponha um plano de expansão. Por que eles devem continuar financiando o seu projeto?<br />\n",
    "\n",
    "Opcionalmente: \n",
    "* Discorrer por que não posso alimentar minha base de Treinamento automaticamente usando o próprio classificador, aplicado a novos tweets.\n",
    "* Propor diferentes cenários de uso para o classificador Naive-Bayes. Cenários sem intersecção com este projeto.\n",
    "* Sugerir e explicar melhorias reais no classificador com indicações concretas de como implementar (não é preciso codificar, mas indicar como fazer e material de pesquisa sobre o assunto).\n"
   ]
  },
  {
   "cell_type": "code",
   "execution_count": null,
   "metadata": {},
   "outputs": [],
   "source": []
  }
 ],
 "metadata": {
  "kernelspec": {
   "display_name": "Python 3",
   "language": "python",
   "name": "python3"
  },
  "language_info": {
   "codemirror_mode": {
    "name": "ipython",
    "version": 3
   },
   "file_extension": ".py",
   "mimetype": "text/x-python",
   "name": "python",
   "nbconvert_exporter": "python",
   "pygments_lexer": "ipython3",
   "version": "3.6.5"
  }
 },
 "nbformat": 4,
 "nbformat_minor": 2
}
